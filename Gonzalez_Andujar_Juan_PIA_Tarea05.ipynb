{
  "nbformat": 4,
  "nbformat_minor": 0,
  "metadata": {
    "colab": {
      "provenance": []
    },
    "kernelspec": {
      "name": "python3",
      "display_name": "Python 3"
    },
    "language_info": {
      "name": "python"
    }
  },
  "cells": [
    {
      "cell_type": "markdown",
      "source": [
        "# Modelo de clasificación de imágenes basado en una red neuronal profunda"
      ],
      "metadata": {
        "id": "PLMjyZtMDJys"
      }
    },
    {
      "cell_type": "markdown",
      "source": [
        "Se pide utilizar el dataset que viene precargado en la librería Keras: [CIFAR10](https://keras.io/api/datasets/cifar10/)\n"
      ],
      "metadata": {
        "id": "Q0QLgCXgDVm5"
      }
    },
    {
      "cell_type": "markdown",
      "source": [
        "1. Importa los módulos necesarios de la librería Keras. Sugerencia:\n",
        "\n",
        "\n",
        "```\n",
        "import numpy as np\n",
        "from keras.models import Sequential\n",
        "from keras.layers import Flatten, Dense\n",
        "```\n",
        "\n"
      ],
      "metadata": {
        "id": "yNPz6EQ9DtEc"
      }
    },
    {
      "cell_type": "code",
      "source": [
        "import numpy as np\n",
        "from keras.datasets import cifar10\n",
        "from keras.utils import to_categorical\n",
        "from keras.models import Sequential\n",
        "from keras.layers import Conv2D, MaxPooling2D, Flatten, Dense"
      ],
      "metadata": {
        "id": "J_bEYduNwnsv"
      },
      "execution_count": 2,
      "outputs": []
    },
    {
      "cell_type": "markdown",
      "source": [
        "2. Importa el dataset CIFAR10 de Keras, en un conjunto de datos de entrenamiento y un conjunto de datos para test. Sugerencia:\n",
        "\n",
        "\n",
        "```\n",
        "from keras.datasets import cifar10\n",
        "\n",
        "(X_train, y_train), (X_test, y_test) = cifar10.load_data()\n",
        "```\n",
        "\n"
      ],
      "metadata": {
        "id": "hT2HMGeTEEM6"
      }
    },
    {
      "cell_type": "code",
      "source": [
        "# Cargar el conjunto de datos CIFAR-10\n",
        "(x_train, y_train), (x_test, y_test) = cifar10.load_data()"
      ],
      "metadata": {
        "id": "4LvEGrUwwzoz",
        "colab": {
          "base_uri": "https://localhost:8080/"
        },
        "outputId": "03fbb3c8-ff77-4124-c476-191689e1cc8a"
      },
      "execution_count": 3,
      "outputs": [
        {
          "output_type": "stream",
          "name": "stdout",
          "text": [
            "Downloading data from https://www.cs.toronto.edu/~kriz/cifar-10-python.tar.gz\n",
            "170498071/170498071 [==============================] - 3s 0us/step\n"
          ]
        }
      ]
    },
    {
      "cell_type": "markdown",
      "source": [
        "3. Explora los datos, especialmente, las dimensiones del dataset. Aplica normalización a los datos de entrada y la técnica one-hot encoding a los de salida.\n",
        "\n",
        "*Sugerencia para normalizar:*\n",
        "\n",
        "\n",
        "```\n",
        "X_train = X_train.astype('float32')\n",
        "X_test = X_test.astype('float32')\n",
        "X_train = X_train / 255.0\n",
        "X_test = X_test / 255.0\n",
        "```\n",
        "*Sugerencia de aplicación one-hot encoding para categorizar etiquetas:*\n",
        "\n",
        "\n",
        "```\n",
        "# one hot encode outputs\n",
        "y_train = np_utils.to_categorical(y_train)\n",
        "y_test = np_utils.to_categorical(y_test)\n",
        "num_classes = y_test.shape[1]\n",
        "```\n",
        "\n",
        "\n"
      ],
      "metadata": {
        "id": "JMV6a8MGNPPR"
      }
    },
    {
      "cell_type": "code",
      "source": [
        "print (\"Entrenamiento: \",x_train.shape,y_train.shape)\n",
        "print (\"Prueba: \",x_test.shape,y_test.shape)\n",
        "x_train = x_train.astype('float32')\n",
        "x_test = x_test.astype('float32')\n",
        "y_train = to_categorical(y_train, 10)\n",
        "y_test = to_categorical(y_test, 10)\n",
        "print (\"Entrenamiento normalizado y codificado: \",x_train.shape,y_train.shape)\n",
        "print (\"Prueba normalizado y codificado: \",x_test.shape,y_test.shape)\n"
      ],
      "metadata": {
        "id": "Wzh3muDt7Obo",
        "colab": {
          "base_uri": "https://localhost:8080/"
        },
        "outputId": "668828ed-e8c0-4073-aa26-c5dce1975bcf"
      },
      "execution_count": 4,
      "outputs": [
        {
          "output_type": "stream",
          "name": "stdout",
          "text": [
            "Entrenamiento:  (50000, 32, 32, 3) (50000, 1)\n",
            "Prueba:  (10000, 32, 32, 3) (10000, 1)\n",
            "Entrenamiento normalizado y codificado:  (50000, 32, 32, 3) (50000, 10)\n",
            "Prueba normalizado y codificado:  (10000, 32, 32, 3) (10000, 10)\n"
          ]
        }
      ]
    },
    {
      "cell_type": "markdown",
      "source": [
        "4. Crea un modelo basado en redes neuronales profundas que tenga más de una capa de tipo Dense (Keras). Si es necesario, usa la capa Flatten al principio. Prueba un primer modelo lo más sencillo posible."
      ],
      "metadata": {
        "id": "_2a1w5nGONsG"
      }
    },
    {
      "cell_type": "code",
      "source": [
        "model = Sequential([\n",
        "    Flatten(input_shape=(32, 32, 3)),  # Capa Flatten para aplanar la entrada\n",
        "    Dense(512, activation='relu'),     # Primera capa Dense con 512 neuronas y activación ReLU\n",
        "    Dense(256, activation='relu'),     # Segunda capa Dense con 256 neuronas y activación ReLU\n",
        "    Dense(10, activation='softmax')    # Capa de salida con 10 neuronas (una para cada clase) y activación Softmax\n",
        "])\n",
        "\n"
      ],
      "metadata": {
        "id": "WTAEzXe79Mm1"
      },
      "execution_count": 8,
      "outputs": []
    },
    {
      "cell_type": "code",
      "source": [],
      "metadata": {
        "id": "xMwR9CSOLjWU"
      },
      "execution_count": null,
      "outputs": []
    },
    {
      "cell_type": "markdown",
      "source": [
        "5. Configura el entrenamiento utilizando la función compile, con la función loss = 'categorical_crossentropy' y el optimizador Adam. Utiliza la función fit para entrenar el modelo, inicialmente, con 20 epochs."
      ],
      "metadata": {
        "id": "uGrjnPxzO1Q6"
      }
    },
    {
      "cell_type": "code",
      "source": [
        "# Compilar el modelo\n",
        "model.compile(optimizer='adam',\n",
        "              loss='categorical_crossentropy',\n",
        "              metrics=['accuracy'])\n",
        "\n",
        "# Entrenar el modelo\n",
        "history = model.fit(x_train, y_train, epochs=20, batch_size=64, validation_data=(x_test, y_test))\n"
      ],
      "metadata": {
        "id": "t6FcgGB40dPR",
        "colab": {
          "base_uri": "https://localhost:8080/"
        },
        "outputId": "5093e91b-4be8-42ad-e3b1-3290217168be"
      },
      "execution_count": 10,
      "outputs": [
        {
          "output_type": "stream",
          "name": "stdout",
          "text": [
            "Epoch 1/20\n",
            "782/782 [==============================] - 27s 33ms/step - loss: 27.1292 - accuracy: 0.2200 - val_loss: 3.2760 - val_accuracy: 0.2396\n",
            "Epoch 2/20\n",
            "782/782 [==============================] - 22s 28ms/step - loss: 2.2995 - accuracy: 0.2837 - val_loss: 2.1436 - val_accuracy: 0.2983\n",
            "Epoch 3/20\n",
            "782/782 [==============================] - 23s 29ms/step - loss: 1.9456 - accuracy: 0.3183 - val_loss: 1.9150 - val_accuracy: 0.3227\n",
            "Epoch 4/20\n",
            "782/782 [==============================] - 22s 27ms/step - loss: 1.9346 - accuracy: 0.3218 - val_loss: 2.0291 - val_accuracy: 0.2971\n",
            "Epoch 5/20\n",
            "782/782 [==============================] - 22s 29ms/step - loss: 2.0087 - accuracy: 0.3057 - val_loss: 2.0859 - val_accuracy: 0.2650\n",
            "Epoch 6/20\n",
            "782/782 [==============================] - 22s 28ms/step - loss: 2.0470 - accuracy: 0.2782 - val_loss: 2.1143 - val_accuracy: 0.2109\n",
            "Epoch 7/20\n",
            "782/782 [==============================] - 23s 29ms/step - loss: 2.0542 - accuracy: 0.2292 - val_loss: 2.2232 - val_accuracy: 0.1496\n",
            "Epoch 8/20\n",
            "782/782 [==============================] - 24s 31ms/step - loss: 2.3028 - accuracy: 0.1054 - val_loss: 2.2471 - val_accuracy: 0.1328\n",
            "Epoch 9/20\n",
            "782/782 [==============================] - 23s 30ms/step - loss: 2.3017 - accuracy: 0.1014 - val_loss: 2.3025 - val_accuracy: 0.1001\n",
            "Epoch 10/20\n",
            "782/782 [==============================] - 24s 30ms/step - loss: 2.2925 - accuracy: 0.1097 - val_loss: 2.3035 - val_accuracy: 0.1001\n",
            "Epoch 11/20\n",
            "782/782 [==============================] - 24s 30ms/step - loss: 2.3028 - accuracy: 0.0997 - val_loss: 2.3030 - val_accuracy: 0.0999\n",
            "Epoch 12/20\n",
            "782/782 [==============================] - 27s 35ms/step - loss: 2.3028 - accuracy: 0.0981 - val_loss: 2.3029 - val_accuracy: 0.1002\n",
            "Epoch 13/20\n",
            "782/782 [==============================] - 24s 31ms/step - loss: 2.3028 - accuracy: 0.0997 - val_loss: 2.3031 - val_accuracy: 0.1001\n",
            "Epoch 14/20\n",
            "782/782 [==============================] - 23s 29ms/step - loss: 2.3032 - accuracy: 0.0984 - val_loss: 2.3029 - val_accuracy: 0.1001\n",
            "Epoch 15/20\n",
            "782/782 [==============================] - 21s 27ms/step - loss: 2.3028 - accuracy: 0.0978 - val_loss: 2.3029 - val_accuracy: 0.0999\n",
            "Epoch 16/20\n",
            "782/782 [==============================] - 23s 29ms/step - loss: 2.3028 - accuracy: 0.0986 - val_loss: 2.3031 - val_accuracy: 0.1000\n",
            "Epoch 17/20\n",
            "782/782 [==============================] - 23s 29ms/step - loss: 2.3028 - accuracy: 0.1000 - val_loss: 2.3032 - val_accuracy: 0.1000\n",
            "Epoch 18/20\n",
            "782/782 [==============================] - 22s 28ms/step - loss: 2.3027 - accuracy: 0.1025 - val_loss: 2.3031 - val_accuracy: 0.1001\n",
            "Epoch 19/20\n",
            "782/782 [==============================] - 21s 27ms/step - loss: 2.3028 - accuracy: 0.1005 - val_loss: 2.3030 - val_accuracy: 0.1000\n",
            "Epoch 20/20\n",
            "782/782 [==============================] - 23s 29ms/step - loss: 2.3028 - accuracy: 0.0998 - val_loss: 2.3033 - val_accuracy: 0.1000\n"
          ]
        }
      ]
    },
    {
      "cell_type": "markdown",
      "source": [
        "6. Crea un nuevo modelo con más capas y mayor número de neuronas. Entrénalo utilizando un número mayor de epochs y analiza el resultado. ¿Has conseguido mejorar la precisión? haz varias pruebas y quédate con el modelo que mejores resultados da."
      ],
      "metadata": {
        "id": "kpZWLhGrPN3V"
      }
    },
    {
      "cell_type": "code",
      "source": [
        "model = Sequential([\n",
        "    Flatten(input_shape=(32, 32, 3)),  # Capa Flatten para aplanar la entrada\n",
        "    Dense(512, activation='relu'),     # Primera capa Dense con 512 neuronas y activación ReLU\n",
        "    Dense(256, activation='relu'),     # Segunda capa Dense con 256 neuronas y activación ReLU\n",
        "    Dense(256, activation='relu'),     # Tercera capa Dense con 256 neuronas y activación ReLU\n",
        "    Dense(10, activation='softmax')    # Capa de salida con 10 neuronas (una para cada clase) y activación Softmax\n",
        "])\n",
        "# Compilar el modelo\n",
        "model.compile(optimizer='adam',\n",
        "              loss='categorical_crossentropy',\n",
        "              metrics=['accuracy'])\n",
        "\n",
        "# Entrenar el modelo\n",
        "history = model.fit(x_train, y_train, epochs=25, batch_size=64, validation_data=(x_test, y_test))"
      ],
      "metadata": {
        "id": "qJQXD3DZ966Y",
        "colab": {
          "base_uri": "https://localhost:8080/"
        },
        "outputId": "c7b9d4d5-ca92-450a-eea5-81a81d57c323"
      },
      "execution_count": 11,
      "outputs": [
        {
          "output_type": "stream",
          "name": "stdout",
          "text": [
            "Epoch 1/25\n",
            "782/782 [==============================] - 24s 30ms/step - loss: 19.6214 - accuracy: 0.2293 - val_loss: 2.1135 - val_accuracy: 0.2874\n",
            "Epoch 2/25\n",
            "782/782 [==============================] - 24s 30ms/step - loss: 2.0882 - accuracy: 0.2982 - val_loss: 1.8976 - val_accuracy: 0.3472\n",
            "Epoch 3/25\n",
            "782/782 [==============================] - 22s 29ms/step - loss: 2.0375 - accuracy: 0.3050 - val_loss: 1.8574 - val_accuracy: 0.3413\n",
            "Epoch 4/25\n",
            "782/782 [==============================] - 23s 30ms/step - loss: 2.0510 - accuracy: 0.2789 - val_loss: 2.1469 - val_accuracy: 0.2269\n",
            "Epoch 5/25\n",
            "782/782 [==============================] - 23s 30ms/step - loss: 1.9725 - accuracy: 0.2800 - val_loss: 1.9910 - val_accuracy: 0.2619\n",
            "Epoch 6/25\n",
            "782/782 [==============================] - 23s 30ms/step - loss: 1.9855 - accuracy: 0.2651 - val_loss: 1.9418 - val_accuracy: 0.2774\n",
            "Epoch 7/25\n",
            "782/782 [==============================] - 23s 29ms/step - loss: 1.9375 - accuracy: 0.2774 - val_loss: 1.9187 - val_accuracy: 0.2893\n",
            "Epoch 8/25\n",
            "782/782 [==============================] - 24s 30ms/step - loss: 1.9242 - accuracy: 0.2793 - val_loss: 1.8863 - val_accuracy: 0.2685\n",
            "Epoch 9/25\n",
            "782/782 [==============================] - 25s 31ms/step - loss: 1.8957 - accuracy: 0.2903 - val_loss: 1.8582 - val_accuracy: 0.3075\n",
            "Epoch 10/25\n",
            "782/782 [==============================] - 22s 29ms/step - loss: 1.8794 - accuracy: 0.2990 - val_loss: 1.8602 - val_accuracy: 0.3209\n",
            "Epoch 11/25\n",
            "782/782 [==============================] - 23s 30ms/step - loss: 1.8776 - accuracy: 0.3028 - val_loss: 1.8537 - val_accuracy: 0.3142\n",
            "Epoch 12/25\n",
            "782/782 [==============================] - 23s 30ms/step - loss: 1.8647 - accuracy: 0.3037 - val_loss: 1.8524 - val_accuracy: 0.3092\n",
            "Epoch 13/25\n",
            "782/782 [==============================] - 23s 30ms/step - loss: 1.8664 - accuracy: 0.3061 - val_loss: 1.8634 - val_accuracy: 0.3005\n",
            "Epoch 14/25\n",
            "782/782 [==============================] - 23s 30ms/step - loss: 1.8585 - accuracy: 0.3105 - val_loss: 1.8617 - val_accuracy: 0.3093\n",
            "Epoch 15/25\n",
            "782/782 [==============================] - 23s 29ms/step - loss: 1.8593 - accuracy: 0.3100 - val_loss: 1.8889 - val_accuracy: 0.2850\n",
            "Epoch 16/25\n",
            "782/782 [==============================] - 23s 29ms/step - loss: 1.8516 - accuracy: 0.3152 - val_loss: 1.8418 - val_accuracy: 0.3183\n",
            "Epoch 17/25\n",
            "782/782 [==============================] - 23s 30ms/step - loss: 1.8338 - accuracy: 0.3240 - val_loss: 1.8431 - val_accuracy: 0.3090\n",
            "Epoch 18/25\n",
            "782/782 [==============================] - 23s 30ms/step - loss: 1.8424 - accuracy: 0.3197 - val_loss: 1.8539 - val_accuracy: 0.3203\n",
            "Epoch 19/25\n",
            "782/782 [==============================] - 24s 31ms/step - loss: 1.8454 - accuracy: 0.3188 - val_loss: 1.8422 - val_accuracy: 0.3104\n",
            "Epoch 20/25\n",
            "782/782 [==============================] - 23s 29ms/step - loss: 1.8321 - accuracy: 0.3252 - val_loss: 1.8186 - val_accuracy: 0.3312\n",
            "Epoch 21/25\n",
            "782/782 [==============================] - 22s 29ms/step - loss: 1.8282 - accuracy: 0.3269 - val_loss: 1.8515 - val_accuracy: 0.3113\n",
            "Epoch 22/25\n",
            "782/782 [==============================] - 23s 29ms/step - loss: 1.8320 - accuracy: 0.3266 - val_loss: 1.8246 - val_accuracy: 0.3331\n",
            "Epoch 23/25\n",
            "782/782 [==============================] - 23s 30ms/step - loss: 1.8205 - accuracy: 0.3317 - val_loss: 1.8607 - val_accuracy: 0.3073\n",
            "Epoch 24/25\n",
            "782/782 [==============================] - 23s 30ms/step - loss: 1.8578 - accuracy: 0.3071 - val_loss: 1.9158 - val_accuracy: 0.2684\n",
            "Epoch 25/25\n",
            "782/782 [==============================] - 23s 30ms/step - loss: 1.9280 - accuracy: 0.2598 - val_loss: 1.9186 - val_accuracy: 0.2572\n"
          ]
        }
      ]
    },
    {
      "cell_type": "markdown",
      "source": [
        "7. Utiliza el método evaluate para ver la precisión que se alcanzaría con datos nuevos, aplicándolo al conjunto de datos de test. ¿Es muy diferente a la precisión alcanzada en el entrenamiento?"
      ],
      "metadata": {
        "id": "OV9KKuHoZHf-"
      }
    },
    {
      "cell_type": "code",
      "source": [
        "\n",
        "# Definir el modelo\n",
        "model = Sequential([\n",
        "    Flatten(input_shape=(32, 32, 3)),\n",
        "    Dense(1024, activation='relu'),\n",
        "    Dense(512, activation='relu'),\n",
        "    Dense(256, activation='relu'),\n",
        "    Dense(128, activation='relu'),\n",
        "    Dense(10, activation='softmax')\n",
        "])\n",
        "\n",
        "# Compilar el modelo con un optimizador Adam y una tasa de aprendizaje reducida\n",
        "model.compile(optimizer='adam',\n",
        "              loss='categorical_crossentropy',\n",
        "              metrics=['accuracy'])\n",
        "\n",
        "\n",
        "# Evaluar el modelo en el conjunto de prueba\n",
        "test_loss, test_accuracy = model.evaluate(x_test, y_test)\n",
        "\n",
        "print(\"Pérdida en el conjunto de prueba:\", test_loss)\n",
        "print(\"Precisión en el conjunto de prueba:\", test_accuracy)\n"
      ],
      "metadata": {
        "id": "OBJUR3TUP8Xs",
        "colab": {
          "base_uri": "https://localhost:8080/"
        },
        "outputId": "da8838e8-801c-4731-f7fc-e5ff8f4d53c5"
      },
      "execution_count": 23,
      "outputs": [
        {
          "output_type": "stream",
          "name": "stdout",
          "text": [
            "313/313 [==============================] - 4s 12ms/step - loss: 83.8209 - accuracy: 0.0894\n",
            "Pérdida en el conjunto de prueba: 83.82089233398438\n",
            "Precisión en el conjunto de prueba: 0.08940000087022781\n"
          ]
        }
      ]
    },
    {
      "cell_type": "markdown",
      "source": [
        "8. Explora de forma visual la precisión que se consigue, representando las primeras 25 imágenes del conjunto de datos de test, y comparando la etiqueta real con la de la predicción. Aquí tienes una posible forma de hacerlo (recuerda poner el nombre de tu modelo a la hora de aplicar el método predict):\n",
        "\n",
        "\n",
        "```\n",
        "predictions = model.predict(X_test)\n",
        "\n",
        "class_names = ['airplane','automobile','bird','cat','deer','dog','frog','horse','ship','truck']\n",
        "\n",
        "plt.figure(figsize=(10,10))\n",
        "for i in range(25):\n",
        "    plt.subplot(5,5,i+1)\n",
        "    plt.xticks([])\n",
        "    plt.yticks([])\n",
        "    plt.grid('off')\n",
        "    plt.imshow(X_test[i], cmap=plt.cm.binary)\n",
        "    predicted_label = predictions[i]\n",
        "    true_label = y_test[i]\n",
        "    if predicted_label.argmax() == true_label.tolist().index(1.):\n",
        "      color = 'green'\n",
        "    else:\n",
        "      color = 'red'\n",
        "    plt.xlabel(\"{} ({})\".format(class_names[predicted_label.argmax()],\n",
        "                                  class_names[true_label.tolist().index(1.)]),\n",
        "                                  color=color)\n",
        "```\n",
        "\n"
      ],
      "metadata": {
        "id": "cxfT2LO0Z31K"
      }
    },
    {
      "cell_type": "code",
      "source": [
        "import matplotlib.pyplot as plt\n",
        "\n",
        "# Definir el modelo\n",
        "model = Sequential([\n",
        "    Flatten(input_shape=(32, 32, 3)),\n",
        "    Dense(1024, activation='relu'),\n",
        "    Dense(512, activation='relu'),\n",
        "    Dense(256, activation='relu'),\n",
        "    Dense(128, activation='relu'),\n",
        "    Dense(10, activation='softmax')\n",
        "])\n",
        "\n",
        "# Hacer predicciones en el conjunto de prueba\n",
        "predictions = model.predict(x_test)\n",
        "\n",
        "# Nombres de las clases\n",
        "class_names = ['airplane','automobile','bird','cat','deer','dog','frog','horse','ship','truck']\n",
        "\n",
        "# Visualizar algunas imágenes con sus etiquetas predichas\n",
        "plt.figure(figsize=(10,10))\n",
        "for i in range(25):\n",
        "    plt.subplot(5,5,i+1)\n",
        "    plt.xticks([])\n",
        "    plt.yticks([])\n",
        "    plt.grid(False)\n",
        "    plt.imshow(x_test[i], cmap=plt.cm.binary)\n",
        "    predicted_label = np.argmax(predictions[i])\n",
        "    true_label = np.argmax(y_test[i])\n",
        "    if predicted_label == true_label:\n",
        "        color = 'green'\n",
        "    else:\n",
        "        color = 'red'\n",
        "    plt.xlabel(\"{} ({})\".format(class_names[predicted_label], class_names[true_label]), color=color)\n",
        "\n",
        "plt.show()\n",
        "\n"
      ],
      "metadata": {
        "id": "2iAj4e8IWBpW",
        "colab": {
          "base_uri": "https://localhost:8080/",
          "height": 1000
        },
        "outputId": "c49d7768-3aa7-4cc1-c4ef-39fdd22360b3"
      },
      "execution_count": 25,
      "outputs": [
        {
          "output_type": "stream",
          "name": "stdout",
          "text": [
            "313/313 [==============================] - 7s 20ms/step\n"
          ]
        },
        {
          "output_type": "stream",
          "name": "stderr",
          "text": [
            "WARNING:matplotlib.image:Clipping input data to the valid range for imshow with RGB data ([0..1] for floats or [0..255] for integers).\n",
            "WARNING:matplotlib.image:Clipping input data to the valid range for imshow with RGB data ([0..1] for floats or [0..255] for integers).\n",
            "WARNING:matplotlib.image:Clipping input data to the valid range for imshow with RGB data ([0..1] for floats or [0..255] for integers).\n",
            "WARNING:matplotlib.image:Clipping input data to the valid range for imshow with RGB data ([0..1] for floats or [0..255] for integers).\n",
            "WARNING:matplotlib.image:Clipping input data to the valid range for imshow with RGB data ([0..1] for floats or [0..255] for integers).\n",
            "WARNING:matplotlib.image:Clipping input data to the valid range for imshow with RGB data ([0..1] for floats or [0..255] for integers).\n",
            "WARNING:matplotlib.image:Clipping input data to the valid range for imshow with RGB data ([0..1] for floats or [0..255] for integers).\n",
            "WARNING:matplotlib.image:Clipping input data to the valid range for imshow with RGB data ([0..1] for floats or [0..255] for integers).\n",
            "WARNING:matplotlib.image:Clipping input data to the valid range for imshow with RGB data ([0..1] for floats or [0..255] for integers).\n",
            "WARNING:matplotlib.image:Clipping input data to the valid range for imshow with RGB data ([0..1] for floats or [0..255] for integers).\n",
            "WARNING:matplotlib.image:Clipping input data to the valid range for imshow with RGB data ([0..1] for floats or [0..255] for integers).\n",
            "WARNING:matplotlib.image:Clipping input data to the valid range for imshow with RGB data ([0..1] for floats or [0..255] for integers).\n",
            "WARNING:matplotlib.image:Clipping input data to the valid range for imshow with RGB data ([0..1] for floats or [0..255] for integers).\n",
            "WARNING:matplotlib.image:Clipping input data to the valid range for imshow with RGB data ([0..1] for floats or [0..255] for integers).\n",
            "WARNING:matplotlib.image:Clipping input data to the valid range for imshow with RGB data ([0..1] for floats or [0..255] for integers).\n",
            "WARNING:matplotlib.image:Clipping input data to the valid range for imshow with RGB data ([0..1] for floats or [0..255] for integers).\n",
            "WARNING:matplotlib.image:Clipping input data to the valid range for imshow with RGB data ([0..1] for floats or [0..255] for integers).\n",
            "WARNING:matplotlib.image:Clipping input data to the valid range for imshow with RGB data ([0..1] for floats or [0..255] for integers).\n",
            "WARNING:matplotlib.image:Clipping input data to the valid range for imshow with RGB data ([0..1] for floats or [0..255] for integers).\n",
            "WARNING:matplotlib.image:Clipping input data to the valid range for imshow with RGB data ([0..1] for floats or [0..255] for integers).\n",
            "WARNING:matplotlib.image:Clipping input data to the valid range for imshow with RGB data ([0..1] for floats or [0..255] for integers).\n",
            "WARNING:matplotlib.image:Clipping input data to the valid range for imshow with RGB data ([0..1] for floats or [0..255] for integers).\n",
            "WARNING:matplotlib.image:Clipping input data to the valid range for imshow with RGB data ([0..1] for floats or [0..255] for integers).\n",
            "WARNING:matplotlib.image:Clipping input data to the valid range for imshow with RGB data ([0..1] for floats or [0..255] for integers).\n",
            "WARNING:matplotlib.image:Clipping input data to the valid range for imshow with RGB data ([0..1] for floats or [0..255] for integers).\n"
          ]
        },
        {
          "output_type": "display_data",
          "data": {
            "text/plain": [
              "<Figure size 1000x1000 with 25 Axes>"
            ],
            "image/png": "[encoded data removed]"
          },
          "metadata": {}
        }
      ]
    }
  ]
}